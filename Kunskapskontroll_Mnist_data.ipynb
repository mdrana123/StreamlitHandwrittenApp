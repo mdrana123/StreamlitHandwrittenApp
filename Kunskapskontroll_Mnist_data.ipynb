{
 "cells": [
  {
   "cell_type": "markdown",
   "metadata": {},
   "source": [
    "Modellera MNIST \n",
    "Använd maskininlärning för att modellera MNIST datan. Du skall utvärdera minst två olika modeller i \n",
    "ditt arbete och göra ett komplett ML-flöde, från början där du laddar in data till slut där du \n",
    "utvärderar den bäst valda modellen på din test data. Hur du laddar ned MNIST datan kan du se här.  "
   ]
  },
  {
   "cell_type": "code",
   "execution_count": 32,
   "metadata": {},
   "outputs": [],
   "source": [
    "# 📌 Python Standard Libraries\n",
    "import numpy as np\n",
    "import pandas as pd\n",
    "import matplotlib.pyplot as plt\n",
    "import seaborn as sns\n",
    "\n",
    "# 📌 Scikit-Learn: Data Handling & Preprocessing\n",
    "from sklearn.datasets import fetch_openml\n",
    "from sklearn.model_selection import train_test_split, GridSearchCV\n",
    "from sklearn.preprocessing import StandardScaler\n",
    "\n",
    "# 📌 Scikit-Learn: Machine Learning Models\n",
    "from sklearn.ensemble import RandomForestClassifier\n",
    "from sklearn.tree import DecisionTreeClassifier\n",
    "from sklearn.linear_model import LogisticRegression\n",
    "\n",
    "# 📌 Scikit-Learn: Evaluation Metrics\n",
    "from sklearn.metrics import accuracy_score, classification_report, confusion_matrix\n",
    "\n",
    "# 📌 Scikit-Learn: Save model\n",
    "import joblib\n",
    "\n"
   ]
  },
  {
   "cell_type": "code",
   "execution_count": 33,
   "metadata": {},
   "outputs": [
    {
     "name": "stdout",
     "output_type": "stream",
     "text": [
      "**Author**: Yann LeCun, Corinna Cortes, Christopher J.C. Burges  \n",
      "**Source**: [MNIST Website](http://yann.lecun.com/exdb/mnist/) - Date unknown  \n",
      "**Please cite**:  \n",
      "\n",
      "The MNIST database of handwritten digits with 784 features, raw data available at: http://yann.lecun.com/exdb/mnist/. It can be split in a training set of the first 60,000 examples, and a test set of 10,000 examples  \n",
      "\n",
      "It is a subset of a larger set available from NIST. The digits have been size-normalized and centered in a fixed-size image. It is a good database for people who want to try learning techniques and pattern recognition methods on real-world data while spending minimal efforts on preprocessing and formatting. The original black and white (bilevel) images from NIST were size normalized to fit in a 20x20 pixel box while preserving their aspect ratio. The resulting images contain grey levels as a result of the anti-aliasing technique used by the normalization algorithm. the images were centered in a 28x28 image by computing the center of mass of the pixels, and translating the image so as to position this point at the center of the 28x28 field.  \n",
      "\n",
      "With some classification methods (particularly template-based methods, such as SVM and K-nearest neighbors), the error rate improves when the digits are centered by bounding box rather than center of mass. If you do this kind of pre-processing, you should report it in your publications. The MNIST database was constructed from NIST's NIST originally designated SD-3 as their training set and SD-1 as their test set. However, SD-3 is much cleaner and easier to recognize than SD-1. The reason for this can be found on the fact that SD-3 was collected among Census Bureau employees, while SD-1 was collected among high-school students. Drawing sensible conclusions from learning experiments requires that the result be independent of the choice of training set and test among the complete set of samples. Therefore it was necessary to build a new database by mixing NIST's datasets.  \n",
      "\n",
      "The MNIST training set is composed of 30,000 patterns from SD-3 and 30,000 patterns from SD-1. Our test set was composed of 5,000 patterns from SD-3 and 5,000 patterns from SD-1. The 60,000 pattern training set contained examples from approximately 250 writers. We made sure that the sets of writers of the training set and test set were disjoint. SD-1 contains 58,527 digit images written by 500 different writers. In contrast to SD-3, where blocks of data from each writer appeared in sequence, the data in SD-1 is scrambled. Writer identities for SD-1 is available and we used this information to unscramble the writers. We then split SD-1 in two: characters written by the first 250 writers went into our new training set. The remaining 250 writers were placed in our test set. Thus we had two sets with nearly 30,000 examples each. The new training set was completed with enough examples from SD-3, starting at pattern # 0, to make a full set of 60,000 training patterns. Similarly, the new test set was completed with SD-3 examples starting at pattern # 35,000 to make a full set with 60,000 test patterns. Only a subset of 10,000 test images (5,000 from SD-1 and 5,000 from SD-3) is available on this site. The full 60,000 sample training set is available.\n",
      "\n",
      "Downloaded from openml.org.\n"
     ]
    }
   ],
   "source": [
    "mnist_data = fetch_openml(\"mnist_784\", version=1, cache = True, as_frame = False)\n",
    "print(mnist_data.DESCR)"
   ]
  },
  {
   "cell_type": "code",
   "execution_count": 34,
   "metadata": {},
   "outputs": [
    {
     "name": "stdout",
     "output_type": "stream",
     "text": [
      "(70000, 784)\n"
     ]
    }
   ],
   "source": [
    "x=mnist_data[\"data\"]\n",
    "y=mnist_data[\"target\"].astype(np.uint8)## Konvertera etiketter till numeriska värden\n",
    "print(x.shape)\n"
   ]
  },
  {
   "cell_type": "markdown",
   "metadata": {},
   "source": [
    "EDA"
   ]
  },
  {
   "cell_type": "code",
   "execution_count": 35,
   "metadata": {},
   "outputs": [
    {
     "data": {
      "text/plain": [
       "(70000, 784)"
      ]
     },
     "execution_count": 35,
     "metadata": {},
     "output_type": "execute_result"
    }
   ],
   "source": [
    "x.shape"
   ]
  },
  {
   "cell_type": "code",
   "execution_count": 36,
   "metadata": {},
   "outputs": [
    {
     "name": "stdout",
     "output_type": "stream",
     "text": [
      "(70000,)\n"
     ]
    }
   ],
   "source": [
    "print(y.shape)\n"
   ]
  },
  {
   "cell_type": "markdown",
   "metadata": {},
   "source": [
    "Preparing data"
   ]
  },
  {
   "cell_type": "code",
   "execution_count": 37,
   "metadata": {},
   "outputs": [],
   "source": [
    "\n",
    "# Standardize Data (Speeds up convergence)\n",
    "#scaler = StandardScaler()\n",
    "#X_scaled = scaler.fit_transform(x)\n",
    "\n"
   ]
  },
  {
   "cell_type": "code",
   "execution_count": 38,
   "metadata": {},
   "outputs": [
    {
     "name": "stdout",
     "output_type": "stream",
     "text": [
      "Training set x:  (56000, 784)\n",
      "Training set y:  (56000,)\n",
      "  \n",
      "Testing set x:  (7000, 784)\n",
      "Testing set y:  (7000,)\n",
      "  \n",
      "Validation set x:  (7000, 784)\n",
      "Validation set y:  (7000,)\n"
     ]
    }
   ],
   "source": [
    "# Steg 2: Dela upp data i tränings- och testset (80% träning, 20% test)\n",
    "X_train, X_test, y_train, y_test = train_test_split(x, y, test_size=0.2, random_state=42, stratify=y)\n",
    "X_val, X_test, y_val, y_test = train_test_split(X_test, y_test,  test_size=0.5, random_state=42) \n",
    "\n",
    "# Training set  \n",
    "print(\"Training set x: \",X_train.shape) \n",
    "print(\"Training set y: \",y_train.shape) \n",
    "print(\"  \") \n",
    "  \n",
    "# Testing set  \n",
    "print(\"Testing set x: \",X_test.shape) \n",
    "print(\"Testing set y: \",y_test.shape) \n",
    "print(\"  \") \n",
    "  \n",
    "# Validation set  \n",
    "print(\"Validation set x: \",X_val.shape) \n",
    "print(\"Validation set y: \",y_val.shape) "
   ]
  },
  {
   "cell_type": "code",
   "execution_count": 39,
   "metadata": {},
   "outputs": [],
   "source": [
    "X_train = X_train / 255.0\n",
    "X_val = X_val / 255.0  \n",
    "X_test = X_test / 255.0"
   ]
  },
  {
   "cell_type": "code",
   "execution_count": 40,
   "metadata": {},
   "outputs": [
    {
     "data": {
      "image/png": "[encoded data removed]",
      "text/plain": [
       "<Figure size 640x480 with 1 Axes>"
      ]
     },
     "metadata": {},
     "output_type": "display_data"
    }
   ],
   "source": [
    "# Assuming X_train is in shape (num_samples, 784), reshape it\n",
    "x_train = X_train.reshape(-1, 28, 28) / 255.0  # Normalize & Reshape\n",
    "# Display an image\n",
    "plt.imshow(x_train[10], cmap='BuPu_r')  # Now it's (28,28)\n",
    "plt.title(f\"Normalized Image - Label: {y_train[10]}\")\n",
    "plt.axis(\"off\")  # Hide axes\n",
    "plt.show()"
   ]
  },
  {
   "cell_type": "code",
   "execution_count": 41,
   "metadata": {},
   "outputs": [
    {
     "data": {
      "image/png": "[encoded data removed]",
      "text/plain": [
       "<Figure size 1500x300 with 10 Axes>"
      ]
     },
     "metadata": {},
     "output_type": "display_data"
    }
   ],
   "source": [
    "\n",
    "# Select the first 10 images\n",
    "fig, axes = plt.subplots(1, 10, figsize=(15, 3))\n",
    "\n",
    "for i in range(10):\n",
    "    axes[i].imshow(x_train[i], cmap='gray')\n",
    "    axes[i].set_title(f\"{y_train[i]}\")\n",
    "    axes[i].axis(\"off\")\n",
    "\n",
    "plt.show()"
   ]
  },
  {
   "cell_type": "code",
   "execution_count": 42,
   "metadata": {},
   "outputs": [
    {
     "data": {
      "image/png": "[encoded data removed]",
      "text/plain": [
       "<Figure size 640x480 with 1 Axes>"
      ]
     },
     "metadata": {},
     "output_type": "display_data"
    }
   ],
   "source": [
    "\n",
    "\n",
    "# Choose an index number \n",
    "index = 8\n",
    "\n",
    "# Display the image at the chosen index\n",
    "plt.imshow(x_train[index], cmap='Blues_r')\n",
    "plt.title(f\"Image at Index {index} - Label: {y_train[index]}\")\n",
    "plt.axis(\"off\")  # Hide axes\n",
    "plt.show()\n"
   ]
  },
  {
   "cell_type": "markdown",
   "metadata": {},
   "source": [
    "Modells"
   ]
  },
  {
   "cell_type": "markdown",
   "metadata": {},
   "source": [
    "Accuracy is a measure of how many predictions a model gets correct, typically used in classification problems."
   ]
  },
  {
   "cell_type": "code",
   "execution_count": 43,
   "metadata": {},
   "outputs": [
    {
     "name": "stdout",
     "output_type": "stream",
     "text": [
      "Fitting 3 folds for each of 27 candidates, totalling 81 fits\n",
      "Best Hyperparameters: {'max_depth': 20, 'min_samples_leaf': 4, 'min_samples_split': 2}\n",
      "Decision Trees Validation Accuracy: 0.8794\n"
     ]
    }
   ],
   "source": [
    "# Initiera Decision Trees\n",
    "decission_trees_clf = DecisionTreeClassifier(random_state=42)\n",
    "\n",
    "#Intialized Params\n",
    "Params_dt= {\"max_depth\": [10, 20, None],\n",
    "        \"min_samples_split\": [2, 5, 10],\n",
    "        'min_samples_leaf': [1, 2, 4]\n",
    "}\n",
    "\n",
    "#GridsearchCv med cross-validation\n",
    "grid_search_dt = GridSearchCV(decission_trees_clf, Params_dt, cv=3, scoring='accuracy', n_jobs=-1, verbose=2)\n",
    "\n",
    "#fit on training data\n",
    "grid_search_dt.fit(X_train, y_train)\n",
    "\n",
    "# Print the Best Parameters\n",
    "print(\"Best Hyperparameters:\", grid_search_dt.best_params_)\n",
    "\n",
    "# Train the Best Model from GridSearch\n",
    "best_dt_clf = grid_search_dt.best_estimator_\n",
    "\n",
    "# Predict on Validation Set\n",
    "y_val_pred_dt = best_dt_clf.predict(X_val)\n",
    "\n",
    "\n",
    "# Compute Validation Accuracy\n",
    "val_accuracy_dt = accuracy_score(y_val, y_val_pred_dt)\n",
    "print(f\"Decision Trees Validation Accuracy: {val_accuracy_dt:.4f}\")\n",
    "\n",
    "\n",
    "\n"
   ]
  },
  {
   "cell_type": "code",
   "execution_count": null,
   "metadata": {},
   "outputs": [
    {
     "name": "stdout",
     "output_type": "stream",
     "text": [
      "0.9255714285714286\n"
     ]
    }
   ],
   "source": [
    "\n",
    "# Initialize Logistic Regression\n",
    "\n",
    "logistic_reg = LogisticRegression( random_state=42,  n_jobs=-1)\n",
    "logistic_reg.fit(X_train, y_train)\n",
    " \n",
    "y_val_pred_lr = logistic_reg.predict(X_val)\n",
    "val_accuracy_lr = accuracy_score(y_val, y_val_pred_lr)\n",
    "print(val_accuracy_lr)\n",
    "\n"
   ]
  },
  {
   "cell_type": "code",
   "execution_count": 45,
   "metadata": {},
   "outputs": [
    {
     "name": "stdout",
     "output_type": "stream",
     "text": [
      "Fitting 3 folds for each of 8 candidates, totalling 24 fits\n",
      "Best Hyperparameters: {'max_depth': 20, 'min_samples_split': 2, 'n_estimators': 100}\n",
      "Random Forest Validation Accuracy: 0.9673\n"
     ]
    }
   ],
   "source": [
    "# Initiera Random forest classification Modell\n",
    "random_Forest_clf = RandomForestClassifier(random_state=42, n_jobs=-1)\n",
    "\n",
    "#Intialized Params\n",
    "Params_rf= {\n",
    "        \"n_estimators\": [50, 100],\n",
    "        \"max_depth\": [10, 20],\n",
    "        \"min_samples_split\": [2, 5]\n",
    "    }\n",
    "#GridsearchCv med cross-validation\n",
    "grid_search_rf = GridSearchCV(random_Forest_clf, Params_rf, cv=3, scoring='accuracy', n_jobs=-1, verbose=2)\n",
    "\n",
    "#fit on training data\n",
    "grid_search_rf.fit(X_train, y_train)\n",
    "\n",
    "# Print the Best Parameters\n",
    "print(\"Best Hyperparameters:\", grid_search_rf.best_params_)\n",
    "\n",
    "# Train the Best Model from GridSearch\n",
    "best_rf_clf = grid_search_rf.best_estimator_\n",
    "\n",
    "# Predict on Validation Set\n",
    "y_val_pred_rf = best_rf_clf.predict(X_val)\n",
    "\n",
    "\n",
    "# Compute Validation Accuracy\n",
    "val_accuracy_rf = accuracy_score(y_val, y_val_pred_rf)\n",
    "print(f\"Random Forest Validation Accuracy: {val_accuracy_rf:.4f}\")\n",
    "\n",
    "\n",
    "\n",
    "\n"
   ]
  },
  {
   "cell_type": "markdown",
   "metadata": {},
   "source": [
    "Choosing the Best Model"
   ]
  },
  {
   "cell_type": "code",
   "execution_count": 46,
   "metadata": {},
   "outputs": [
    {
     "name": "stdout",
     "output_type": "stream",
     "text": [
      "Random Forest is best model with higest value: 0.9673\n"
     ]
    }
   ],
   "source": [
    "# Step 2: Compare and choose best Model\n",
    "if (val_accuracy_rf > val_accuracy_dt) and (val_accuracy_rf > val_accuracy_lr):\n",
    "    print(f\"Random Forest is best model with higest value: {val_accuracy_rf:.4f}\") \n",
    "elif (val_accuracy_dt > val_accuracy_rf) and (val_accuracy_dt > val_accuracy_lr):\n",
    "        print(f\"Decession tress is best model with higest value: {val_accuracy_rf:.4f}\")\n",
    "else:print(f\"Logistik Regression is best model with higest value: {val_accuracy_rf:.4f}\")     "
   ]
  },
  {
   "cell_type": "markdown",
   "metadata": {},
   "source": [
    "AS Random forest classification has highest validation accuracy. So Random Forest classification is Best Model. So now I perform final testing on unseen data"
   ]
  },
  {
   "cell_type": "code",
   "execution_count": null,
   "metadata": {},
   "outputs": [
    {
     "name": "stdout",
     "output_type": "stream",
     "text": [
      "Test Accuracy for Random forest classification: 0.9666\n"
     ]
    }
   ],
   "source": [
    "# Make predictions for Random forest classification\n",
    "y_test_pred_rf = best_rf_clf.predict(X_test)\n",
    "\n",
    "\n",
    "\n",
    "#Compute Accuracy for Random forest classification\n",
    "test_accuracy_rf = accuracy_score(y_test, y_test_pred_rf)\n",
    "print(f\"Test Accuracy for Random forest classification: {test_accuracy_rf:.4f}\")"
   ]
  },
  {
   "cell_type": "markdown",
   "metadata": {},
   "source": [
    "Evaluate the Final Model # As i have found the best model. So i evaluate only the Random Forest classification."
   ]
  },
  {
   "cell_type": "code",
   "execution_count": 48,
   "metadata": {},
   "outputs": [
    {
     "name": "stdout",
     "output_type": "stream",
     "text": [
      "Random Forest Validation Accuracy: 0.9673\n",
      "Test Accuracy for Random forest classification: 0.9666\n"
     ]
    }
   ],
   "source": [
    "## training accuracy is  higher than test accuracy, the model is overfitting.\n",
    "print(f\"Random Forest Validation Accuracy: {val_accuracy_rf:.4f}\")\n",
    "print(f\"Test Accuracy for Random forest classification: {test_accuracy_rf:.4f}\")\n"
   ]
  },
  {
   "cell_type": "code",
   "execution_count": 49,
   "metadata": {},
   "outputs": [
    {
     "name": "stdout",
     "output_type": "stream",
     "text": [
      "\n",
      "Classification Report for Random Forest:\n",
      "              precision    recall  f1-score   support\n",
      "\n",
      "           0       0.96      0.99      0.98       692\n",
      "           1       0.99      0.98      0.98       790\n",
      "           2       0.96      0.97      0.96       725\n",
      "           3       0.97      0.96      0.96       721\n",
      "           4       0.96      0.95      0.96       685\n",
      "           5       0.98      0.97      0.97       642\n",
      "           6       0.97      0.98      0.97       670\n",
      "           7       0.97      0.97      0.97       719\n",
      "           8       0.96      0.96      0.96       676\n",
      "           9       0.94      0.95      0.94       680\n",
      "\n",
      "    accuracy                           0.97      7000\n",
      "   macro avg       0.97      0.97      0.97      7000\n",
      "weighted avg       0.97      0.97      0.97      7000\n",
      "\n"
     ]
    }
   ],
   "source": [
    "# Display Classification Report\n",
    "print(\"\\nClassification Report for Random Forest:\")\n",
    "print(classification_report(y_test, y_test_pred_rf))\n",
    "\n"
   ]
  },
  {
   "cell_type": "markdown",
   "metadata": {},
   "source": []
  },
  {
   "cell_type": "code",
   "execution_count": 50,
   "metadata": {},
   "outputs": [
    {
     "data": {
      "image/png": "[encoded data removed]",
      "text/plain": [
       "<Figure size 1000x600 with 2 Axes>"
      ]
     },
     "metadata": {},
     "output_type": "display_data"
    }
   ],
   "source": [
    "#confusion_matrix: Shows the number of correct/incorrect predictions.\n",
    "# Confusion Matrix\n",
    "plt.figure(figsize=(10, 6))\n",
    "sns.heatmap(confusion_matrix(y_test, y_test_pred_rf), annot=True, fmt=\"d\", cmap=\"Blues\")\n",
    "plt.xlabel(\"Predicted\")\n",
    "plt.ylabel(\"Actual\")\n",
    "plt.title(\"Confusion Matrix - Random Forest\")\n",
    "plt.show()"
   ]
  },
  {
   "cell_type": "code",
   "execution_count": null,
   "metadata": {},
   "outputs": [
    {
     "data": {
      "text/plain": [
       "['Logistik.pkl']"
      ]
     },
     "execution_count": 51,
     "metadata": {},
     "output_type": "execute_result"
    }
   ],
   "source": [
    "# Save model for streamlit app\n",
    "joblib.dump(logistic_reg , \"Logistik.pkl\")\n"
   ]
  }
 ],
 "metadata": {
  "kernelspec": {
   "display_name": "base",
   "language": "python",
   "name": "python3"
  },
  "language_info": {
   "codemirror_mode": {
    "name": "ipython",
    "version": 3
   },
   "file_extension": ".py",
   "mimetype": "text/x-python",
   "name": "python",
   "nbconvert_exporter": "python",
   "pygments_lexer": "ipython3",
   "version": "3.12.7"
  }
 },
 "nbformat": 4,
 "nbformat_minor": 2
}
